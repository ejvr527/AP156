{
 "cells": [
  {
   "cell_type": "code",
   "execution_count": 13,
   "metadata": {},
   "outputs": [
    {
     "ename": "SyntaxError",
     "evalue": "Missing parentheses in call to 'print'. Did you mean print(\"\\nElectrical Circuits\\n\")? (<ipython-input-13-a756497c75c6>, line 8)",
     "output_type": "error",
     "traceback": [
      "\u001b[0;36m  File \u001b[0;32m\"<ipython-input-13-a756497c75c6>\"\u001b[0;36m, line \u001b[0;32m8\u001b[0m\n\u001b[0;31m    print \"\\nElectrical Circuits\\n\"\u001b[0m\n\u001b[0m                                  ^\u001b[0m\n\u001b[0;31mSyntaxError\u001b[0m\u001b[0;31m:\u001b[0m Missing parentheses in call to 'print'. Did you mean print(\"\\nElectrical Circuits\\n\")?\n"
     ]
    }
   ],
   "source": [
    "import cmath\n",
    "import numpy as np\n",
    "import matplotlib.pyplot as plt\n",
    "import sympy\n",
    "from sympy import Symbol, simplify\n",
    "from sympy.solvers import solve\n",
    "\n",
    "print(\"\\nElectrical Circuits\\n\")\n",
    "vo = Symbol(\"vo\")\n",
    "vr = Symbol(\"vr\")\n",
    "ir = Symbol(\"ir\")\n",
    "ic = Symbol(\"ic\")\n",
    "il =  Symbol(\"il\")\n",
    "r =  Symbol(\"r\")\n",
    "omega = Symbol(\"omega\")\n",
    "c =  Symbol(\"c\")\n",
    "l =  Symbol(\"l\")"
   ]
  },
  {
   "cell_type": "code",
   "execution_count": null,
   "metadata": {},
   "outputs": [],
   "source": [
    "eq1 = (vr + vo - 1, \n",
    "       ir - ic - il, \n",
    "       vr - ir*r,\n",
    "       # 1j is the imaginary number\n",
    "       vo - ic/(1j*omega*c),\n",
    "       # complete the following line:\n",
    "       vo - 1j*omega*L*il)"
   ]
  },
  {
   "cell_type": "code",
   "execution_count": null,
   "metadata": {},
   "outputs": [],
   "source": [
    "# Then we solve for variables vo, vr, ir, ic,il\n",
    "sol = solve(eq1, (vo, vr, ir, ic, il))\n",
    "vos = simplify(sol[vo])\n",
    "# compare the output of the following line if vos = sol[vo]\n",
    "print vos"
   ]
  },
  {
   "cell_type": "code",
   "execution_count": null,
   "metadata": {},
   "outputs": [],
   "source": [
    "numvalue = {c: 10**-6, l: 10**-3}\n",
    "# what does subs()?\n",
    "# is vos.subs(c=10**-6, l=10**-3) allowed? Try it.\n",
    "vosnum = vos.subs(numvalue)\n",
    "flist = [vosnum.subs({r: 100.0*3**s}) for s in range(0, 4)]\n",
    "omega_axis = np.linspace(20000, 43246, 100)\n",
    "# what does 121 in the following line mean?\n",
    "# what are the other possible parameters of subplot()?\n",
    "plt.subplot(121)\n",
    "# describe (python type, dimensions, etc) of the input parameter/s of zip() below\n",
    "# what does zip(*a) do if a is a 2-D list or numpy array?\n",
    "plt.plot(omega_axis, zip(*[[abs(f.subs({omega: o})) for o in omega_axis] \n",
    "                                                    for f in flist]))\n",
    "plt.xlim(20000, 43246)\n",
    "plt.ylim(0, 1)\n",
    "plt.xlabel('omega')\n",
    "plt.ylabel('Abs[vo]')\n",
    "plt.xticks([20000, 30000, 40000])\n",
    "\n",
    "plt.subplot(122)\n",
    "# Replicate Fig. 2.6, right pane following the code for Fig. 2.6, left pane\n",
    "plt.plot(omega_axis, # ...\n",
    "# ...\n",
    "plt.show()"
   ]
  },
  {
   "cell_type": "code",
   "execution_count": null,
   "metadata": {},
   "outputs": [],
   "source": [
    "def vsaw(t, T=1.0): \n",
    "    # complete this function\n",
    "\n",
    "omegares = 1./np.sqrt(np.prod(numvalue.values()))\n",
    "alist = (1/np.sqrt(256)) * vsaw(np.arange(256)/256.0)\n",
    "blist = np.sqrt(256) * np.fft.fft(alist)\n",
    "\n",
    "def plot3(fac, w):\n",
    "    # add a docstring for this function\n",
    "    omegai = fac * omegares\n",
    "    # How were the limits of arange() in the following line chosen?\n",
    "    volist = np.concatenate(([complex(vosnum.subs({omega: omegai*s, r:\n",
    "                                                   w}).evalf()) \n",
    "                                 for s in np.arange(1, 129)],\n",
    "                             [0.0],\n",
    "                             [complex(vosnum.subs({omega: omegai*s, r:\n",
    "                                                   w}).evalf()) \n",
    "                                 for s in np.arange(-127, 0)]))\n",
    "    vtrans = np.fft.ifft(blist * volist)\n",
    "    plotlist = np.array([[(k+1)/256., vtrans[k%256]] for k in range(768)])\n",
    "    plt.plot(plotlist[:,0], plotlist[:,1])\n",
    "    # what does the following line do?\n",
    "    plt.axhline(0)\n",
    "    # add labels\n",
    "    plt.show()"
   ]
  },
  {
   "cell_type": "code",
   "execution_count": 2,
   "metadata": {},
   "outputs": [],
   "source": [
    "plot3(1, 2700.0)\n",
    "plot3(1/3., 200.0)\n",
    "plot3(3.0, 5.0)\n",
    "\n",
    "eq2 = (ir * (r + 1/(1j*omega*c) + 1j*omega*l) + vo - 1,\n",
    "       ir - (1j*omega*c + 1/(1j*omega*l)) * vo)\n",
    "sol2 = # complete this line\n",
    "vos2 = simplify(sol2[vo])\n",
    "irs = simplify(sol2[ir])\n",
    "# why should irs be passed to sympy.abs() before squaring?\n",
    "power = (r**2) *( sympy.abs(irs)**2)\n",
    "flist3 = [sympy.abs(vos2.subs(numvalue).subs({r: 10.0*3**s})) \n",
    "            for s in range(0, 3)]\n",
    "omega_axis = np.linspace(10000, 70000, 1000)\n",
    "lines = # ...\n",
    "# what does plt.setp() do?\n",
    "plt.setp(lines[0], lw=2)\n",
    "plt.setp(lines[1], ls='--'\n",
    "# add labels and ticks\n",
    "plt.minorticks_on()\n",
    "plt.show()\n",
    "\n",
    "# replicate fig. 2.10"
   ]
  }
 ],
 "metadata": {
  "kernelspec": {
   "display_name": "Python 3",
   "language": "python",
   "name": "python3"
  },
  "language_info": {
   "codemirror_mode": {
    "name": "ipython",
    "version": 3
   },
   "file_extension": ".py",
   "mimetype": "text/x-python",
   "name": "python",
   "nbconvert_exporter": "python",
   "pygments_lexer": "ipython3",
   "version": "3.6.4"
  }
 },
 "nbformat": 4,
 "nbformat_minor": 2
}
