{
 "cells": [
  {
   "cell_type": "markdown",
   "metadata": {},
   "source": [
    "# 1.3 Nonlinear fit"
   ]
  },
  {
   "cell_type": "markdown",
   "metadata": {},
   "source": [
    "Assume N data pairs ${Y_i,t_i}$ to which we model a function $g(\\textbf{a} ,t_i)$ with an unknown M-component parameter vector $\\textbf{a}$ is to be fitted."
   ]
  },
  {
   "cell_type": "markdown",
   "metadata": {},
   "source": [
    "Furthermore, assume that for each $t_i$ the data $Y_i$ are measured with errors $\\varepsilon_i $ s.t. $<\\varepsilon_i> =0$ and $<\\varepsilon_i>^2 =\\sigma_i^2$ "
   ]
  },
  {
   "cell_type": "code",
   "execution_count": 394,
   "metadata": {},
   "outputs": [],
   "source": [
    "import numpy as np\n",
    "import scipy as scp\n",
    "from scipy.stats import chi2\n",
    "from scipy.optimize import curve_fit,minimize\n",
    "import matplotlib.pyplot as plt\n",
    "import random as rndb\n",
    "\n",
    "#Generating the model with parameters a,om,phi,b\n",
    "a = 1\n",
    "om = 1\n",
    "phi = 0\n",
    "b = 0.1\n",
    "\n",
    "#where N is the number of elements for the model data set\n",
    "N = 11\n",
    "#and M is the number of parameters\n",
    "M = 4"
   ]
  },
  {
   "cell_type": "markdown",
   "metadata": {},
   "source": [
    "The best set of parameters can be obtained by finding the components that minimize the quadratic deviation $\\chi^2$, where $\\chi^2(a) = $$\\sum_{i=1}^{N} [\\frac{Y_i - g(\\textbf{a},t_i))}{\\sigma_i}]^2 $$ $"
   ]
  },
  {
   "cell_type": "code",
   "execution_count": 395,
   "metadata": {
    "scrolled": true
   },
   "outputs": [],
   "source": [
    "def x2(data,model):\n",
    "    result = 0\n",
    "    for i in range(0,len(data)):\n",
    "        result += (data[i]-model[i])**2 / np.var(data[i]-model[i])**2\n",
    "    return result"
   ]
  },
  {
   "cell_type": "markdown",
   "metadata": {},
   "source": [
    "Then, we define the theoretical model of the system"
   ]
  },
  {
   "cell_type": "code",
   "execution_count": 396,
   "metadata": {},
   "outputs": [],
   "source": [
    "#theoretical model to be used\n",
    "def model(t,a,om,phi,b):\n",
    "    return a * np.sin(om*t+phi)* np.exp(-b*t)"
   ]
  },
  {
   "cell_type": "markdown",
   "metadata": {},
   "source": [
    "Generating the system with the noise:"
   ]
  },
  {
   "cell_type": "code",
   "execution_count": 397,
   "metadata": {},
   "outputs": [],
   "source": [
    "#where t is the independent variable\n",
    "t = np.linspace(0,3*np.pi,N)\n",
    "tmodel = np.linspace(0,3*np.pi,1000)\n",
    "\n",
    "#we generate the y of the model and add the noise\n",
    "noise = 0.4 * np.random.normal(size=t.size)\n",
    "ydata =  model(t,a,om,phi,b)+noise -0.2\n",
    "ymodel= model(tmodel,a,om,phi,b)\n"
   ]
  },
  {
   "cell_type": "markdown",
   "metadata": {},
   "source": [
    "Plotting the data set, we get:"
   ]
  },
  {
   "cell_type": "code",
   "execution_count": 398,
   "metadata": {
    "scrolled": true
   },
   "outputs": [
    {
     "data": {
      "image/png": "[encoded data removed]",
      "text/plain": [
       "<matplotlib.figure.Figure at 0x7fa8b000be10>"
      ]
     },
     "metadata": {},
     "output_type": "display_data"
    }
   ],
   "source": [
    "#Then, we plot the data\n",
    "plt.scatter(t,ydata,label='data',color='green')\n",
    "\n",
    "#and fit curves using a guided bound (a,1.1), (om,1.1), (phi,0.1), (b,0.2)\n",
    "popt,pcov = curve_fit(model,t,ydata,bounds=(0,[1.1,1.1,.1,.2]))\n",
    "\n",
    "plt.plot(t,model(t,*popt), 'r-',label=\"fit\")#'fit: a=%5.3f, om=%5.3f, phi=%5.3f, b=%5.3f' % tuple(popt)\n",
    "plt.plot(tmodel,ymodel,label='model')\n",
    "plt.legend(loc='lower right')\n",
    "plt.xlabel('t')\n",
    "plt.ylabel('f[t]')\n",
    "plt.show()"
   ]
  },
  {
   "cell_type": "markdown",
   "metadata": {},
   "source": [
    "The parameters obtained from the bounded curvefit a, omega, phi, and b are:"
   ]
  },
  {
   "cell_type": "code",
   "execution_count": 399,
   "metadata": {
    "scrolled": true
   },
   "outputs": [
    {
     "name": "stdout",
     "output_type": "stream",
     "text": [
      "a: 0.9738790097379282\n",
      "om: 1.041359125212683\n",
      "phi: 8.960764613633034e-31\n",
      "b: 0.0929549135492206\n"
     ]
    }
   ],
   "source": [
    "print(\"a:\",popt[0])\n",
    "print(\"om:\",popt[1])\n",
    "print(\"phi:\",popt[2])\n",
    "print(\"b:\",popt[3])"
   ]
  },
  {
   "cell_type": "code",
   "execution_count": 400,
   "metadata": {
    "scrolled": true
   },
   "outputs": [
    {
     "name": "stdout",
     "output_type": "stream",
     "text": [
      "[-8.72670057e-31 -5.43341149e-03  3.23519874e-02  8.61892763e-02\n",
      "  8.13267803e-02 -7.68249984e-03 -1.12663990e-01 -1.32380237e-01\n",
      " -3.57334304e-02  9.95071391e-02  1.54104977e-01]\n"
     ]
    }
   ],
   "source": [
    "#computing the error\n",
    "error = model(t,a,om,phi,b) - model(t,*popt)\n",
    "print(error)"
   ]
  },
  {
   "cell_type": "code",
   "execution_count": 410,
   "metadata": {},
   "outputs": [
    {
     "ename": "SyntaxError",
     "evalue": "invalid syntax (<ipython-input-410-ce8d8f795545>, line 6)",
     "output_type": "error",
     "traceback": [
      "\u001b[0;36m  File \u001b[0;32m\"<ipython-input-410-ce8d8f795545>\"\u001b[0;36m, line \u001b[0;32m6\u001b[0m\n\u001b[0;31m    def chisq((a, om, phi, b)):\u001b[0m\n\u001b[0m              ^\u001b[0m\n\u001b[0;31mSyntaxError\u001b[0m\u001b[0;31m:\u001b[0m invalid syntax\n"
     ]
    }
   ],
   "source": [
    "ydata /= max(ydata)\n",
    "print(ydata)\n",
    "error /= max(ydata)\n",
    "print(error)\n",
    "guess = np.array([1.1,1.1,.1,.2])\n",
    "def chisq():\n",
    "    return np.sum(((ydata-model(t,a,om,phi,b))/error)**2)\n",
    "result = minimize(chisq,guess)\n",
    "#minimize?"
   ]
  },
  {
   "cell_type": "markdown",
   "metadata": {},
   "source": [
    "The $\\chi^2$ is shown below."
   ]
  },
  {
   "cell_type": "code",
   "execution_count": null,
   "metadata": {},
   "outputs": [],
   "source": [
    "fig, ax = plt.subplots(1, 1)\n",
    "df =7\n",
    "x = np.linspace(0,20,1000)\n",
    "ax.plot(x, chi2.pdf(x, df),label='chi2 pdf')\n",
    "#plt.legend()\n",
    "plt.ylabel(\"density\")\n",
    "plt.xlabel(\"$\\chi^2$\")\n",
    "plt.xticks(range(0,25,5))\n",
    "plt.xlim(-0.1,20)\n",
    "plt.ylim(-0.001,0.13)\n",
    "plt.show()"
   ]
  },
  {
   "cell_type": "markdown",
   "metadata": {},
   "source": [
    "To obtain the confidence interval for the value of $\\chi^2_o$ from "
   ]
  },
  {
   "cell_type": "code",
   "execution_count": null,
   "metadata": {},
   "outputs": [],
   "source": [
    "alpha = [0.05,0.95]\n",
    "z = chi2.pdf(x,df)\n",
    "\n",
    "print(\"IOC for alpha 5% to 95%:\",np.percentile(z,[5,95]))"
   ]
  },
  {
   "cell_type": "code",
   "execution_count": null,
   "metadata": {},
   "outputs": [],
   "source": [
    "x = np.linspace(0,20,1000)\n",
    "rv = chi2(df)\n",
    "plt.plot(x,rv.pdf(x))\n",
    "r = chi2.rvs(df, size=1000)\n",
    "b1,b2 = np.percentile(r,[5,95])\n",
    "plt.hist(r, density=True, histtype='stepfilled', alpha=0.1,color='green')\n",
    "plt.plot([b1]*50,np.linspace(0,max(rv.pdf(x)),50),'--',lw=0.5,label='bound 5%')\n",
    "plt.plot([b2]*50,np.linspace(0,max(rv.pdf(x)),50),'--',lw=0.5,label='bound 95%')\n",
    "plt.xlim(0,20)\n",
    "plt.xlabel(\"$\\chi^2$\")\n",
    "plt.ylabel(\"density\")\n",
    "plt.legend(loc='upper right')\n",
    "plt.show()\n",
    "\n",
    "print(\"IOC for alpha 5% to 95%:\",\"(\",b1,',',b2,')')"
   ]
  },
  {
   "cell_type": "code",
   "execution_count": null,
   "metadata": {},
   "outputs": [],
   "source": [
    "N_8= 8\n",
    "df = N_8 - M\n",
    "x = np.linspace(0,20,N_)\n",
    "rv = chi2(df)\n",
    "plt.plot(x,rv.pdf(x))\n",
    "plt.show()\n",
    "plt.plot(x,(chi2.cdf(x,df)))"
   ]
  }
 ],
 "metadata": {
  "kernelspec": {
   "display_name": "Python 3",
   "language": "python",
   "name": "python3"
  },
  "language_info": {
   "codemirror_mode": {
    "name": "ipython",
    "version": 3
   },
   "file_extension": ".py",
   "mimetype": "text/x-python",
   "name": "python",
   "nbconvert_exporter": "python",
   "pygments_lexer": "ipython3",
   "version": "3.6.4"
  }
 },
 "nbformat": 4,
 "nbformat_minor": 2
}
